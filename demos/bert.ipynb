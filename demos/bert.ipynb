{
 "cells": [
  {
   "cell_type": "code",
   "execution_count": 11,
   "metadata": {},
   "outputs": [],
   "source": [
    "import torch\n",
    "from transformers import AutoTokenizer, BertForMaskedLM\n",
    "\n",
    "from transformer_lens.HookedEncoderConfig import HookedEncoderConfig\n",
    "from transformer_lens.components import TokenTypeEmbed, BertEmbed\n",
    "from transformer_lens.utils import get_corner"
   ]
  },
  {
   "cell_type": "code",
   "execution_count": 2,
   "metadata": {},
   "outputs": [],
   "source": [
    "def _copy(mine, theirs):\n",
    "    mine.detach().copy_(theirs)"
   ]
  },
  {
   "cell_type": "code",
   "execution_count": 3,
   "metadata": {},
   "outputs": [
    {
     "name": "stderr",
     "output_type": "stream",
     "text": [
      "Some weights of the model checkpoint at bert-base-cased were not used when initializing BertForMaskedLM: ['cls.seq_relationship.weight', 'cls.seq_relationship.bias']\n",
      "- This IS expected if you are initializing BertForMaskedLM from the checkpoint of a model trained on another task or with another architecture (e.g. initializing a BertForSequenceClassification model from a BertForPreTraining model).\n",
      "- This IS NOT expected if you are initializing BertForMaskedLM from the checkpoint of a model that you expect to be exactly identical (initializing a BertForSequenceClassification model from a BertForSequenceClassification model).\n"
     ]
    }
   ],
   "source": [
    "cfg = HookedEncoderConfig(\n",
    "    d_vocab=28996,\n",
    "    d_model=768,\n",
    "    n_ctx=512,\n",
    "    eps=1e-12,\n",
    ")\n",
    "\n",
    "tokenizer = AutoTokenizer.from_pretrained(\"bert-base-cased\")\n",
    "input_ids = tokenizer.encode(text=\"Hello world!\", return_tensors=\"pt\")\n",
    "\n",
    "huggingface_bert = BertForMaskedLM.from_pretrained(\"bert-base-cased\")\n",
    "huggingface_word_embed = huggingface_bert.bert.embeddings.word_embeddings"
   ]
  },
  {
   "cell_type": "code",
   "execution_count": 4,
   "metadata": {},
   "outputs": [
    {
     "name": "stdout",
     "output_type": "stream",
     "text": [
      "token_type_ids=tensor([0, 0, 0, 0, 0, 0, 0, 1, 1, 1])\n"
     ]
    },
    {
     "data": {
      "text/plain": [
       "True"
      ]
     },
     "execution_count": 4,
     "metadata": {},
     "output_type": "execute_result"
    }
   ],
   "source": [
    "token_type_ids = torch.zeros(10, dtype=int)\n",
    "token_type_ids[7:] = 1\n",
    "print(f\"{token_type_ids=}\")\n",
    "\n",
    "token_type_embed = TokenTypeEmbed(cfg)\n",
    "\n",
    "huggingface_token_type_embed = huggingface_bert.bert.embeddings.token_type_embeddings\n",
    "\n",
    "_copy(token_type_embed.W_token_type, huggingface_token_type_embed.weight)\n",
    "\n",
    "torch.equal(token_type_embed(token_type_ids), huggingface_token_type_embed(token_type_ids))\n"
   ]
  },
  {
   "cell_type": "code",
   "execution_count": 5,
   "metadata": {},
   "outputs": [
    {
     "name": "stdout",
     "output_type": "stream",
     "text": [
      "['word_embeddings.W_E', 'position_embeddings.W_pos', 'token_type_embeddings.W_token_type', 'layer_norm.w', 'layer_norm.b']\n",
      "['word_embeddings.weight', 'position_embeddings.weight', 'token_type_embeddings.weight', 'LayerNorm.weight', 'LayerNorm.bias']\n"
     ]
    },
    {
     "data": {
      "text/plain": [
       "False"
      ]
     },
     "execution_count": 5,
     "metadata": {},
     "output_type": "execute_result"
    }
   ],
   "source": [
    "embed = BertEmbed(cfg)\n",
    "huggingface_embed = huggingface_bert.bert.embeddings\n",
    "\n",
    "\n",
    "my_parameters = list(embed.named_parameters())\n",
    "their_parameters = list(huggingface_embed.named_parameters())\n",
    "\n",
    "state_dict = {\n",
    "    my_name: their_param\n",
    "    for (my_name, _), (_, their_param)\n",
    "      in zip(my_parameters, their_parameters)\n",
    "}\n",
    "\n",
    "embed.load_state_dict(state_dict)\n",
    "\n",
    "\n",
    "torch.equal(embed(input_ids), huggingface_embed(input_ids))\n"
   ]
  },
  {
   "cell_type": "code",
   "execution_count": 8,
   "metadata": {},
   "outputs": [
    {
     "data": {
      "text/plain": [
       "dict_keys(['input_ids', 'token_type_ids', 'attention_mask'])"
      ]
     },
     "execution_count": 8,
     "metadata": {},
     "output_type": "execute_result"
    }
   ],
   "source": [
    "\n",
    "tokenizer = AutoTokenizer.from_pretrained(\"bert-base-cased\")\n",
    "\n",
    "prompt = \"In Italy, pizza served in formal settings, such as at a restaurant, is presented unsliced.\"\n",
    "next_sentence = \"The sky is blue due to the shorter wavelength of blue light.\"\n",
    "encoding = tokenizer(prompt, next_sentence, return_tensors=\"pt\")\n",
    "\n",
    "encoding.keys()"
   ]
  },
  {
   "cell_type": "code",
   "execution_count": 9,
   "metadata": {},
   "outputs": [
    {
     "name": "stderr",
     "output_type": "stream",
     "text": [
      "Some weights of the model checkpoint at bert-base-cased were not used when initializing BertForMaskedLM: ['cls.seq_relationship.weight', 'cls.seq_relationship.bias']\n",
      "- This IS expected if you are initializing BertForMaskedLM from the checkpoint of a model trained on another task or with another architecture (e.g. initializing a BertForSequenceClassification model from a BertForPreTraining model).\n",
      "- This IS NOT expected if you are initializing BertForMaskedLM from the checkpoint of a model that you expect to be exactly identical (initializing a BertForSequenceClassification model from a BertForSequenceClassification model).\n"
     ]
    },
    {
     "data": {
      "text/plain": [
       "<All keys matched successfully>"
      ]
     },
     "execution_count": 9,
     "metadata": {},
     "output_type": "execute_result"
    }
   ],
   "source": [
    "\n",
    "input_ids = encoding[\"input_ids\"]\n",
    "token_type_ids = encoding[\"token_type_ids\"]\n",
    "\n",
    "embed = BertEmbed(cfg)\n",
    "my_parameters = list(embed.named_parameters())\n",
    "\n",
    "huggingface_bert = BertForMaskedLM.from_pretrained(\"bert-base-cased\")\n",
    "huggingface_embed = huggingface_bert.bert.embeddings\n",
    "their_parameters = list(huggingface_embed.named_parameters())\n",
    "\n",
    "state_dict = {\n",
    "    my_name: their_param\n",
    "    for (my_name, _), (_, their_param)\n",
    "    in zip(my_parameters, their_parameters)\n",
    "}\n",
    "\n",
    "embed.load_state_dict(state_dict)"
   ]
  },
  {
   "cell_type": "code",
   "execution_count": 14,
   "metadata": {},
   "outputs": [],
   "source": [
    "mine = embed(input_ids, token_type_ids=token_type_ids)"
   ]
  },
  {
   "cell_type": "code",
   "execution_count": 15,
   "metadata": {},
   "outputs": [],
   "source": [
    "theirs = (huggingface_embed(input_ids, token_type_ids=token_type_ids))"
   ]
  },
  {
   "cell_type": "code",
   "execution_count": 22,
   "metadata": {},
   "outputs": [],
   "source": [
    "torch.testing.assert_close(mine, theirs)"
   ]
  },
  {
   "cell_type": "code",
   "execution_count": 23,
   "metadata": {},
   "outputs": [
    {
     "data": {
      "text/plain": [
       "{'input_ids': tensor([[ 101,  175, 5658,  102]]), 'token_type_ids': tensor([[0, 0, 0, 0]]), 'attention_mask': tensor([[1, 1, 1, 1]])}"
      ]
     },
     "execution_count": 23,
     "metadata": {},
     "output_type": "execute_result"
    }
   ],
   "source": [
    "tokenizer(\"foo\", return_tensors=\"pt\")"
   ]
  }
 ],
 "metadata": {
  "kernelspec": {
   "display_name": ".venv",
   "language": "python",
   "name": "python3"
  },
  "language_info": {
   "codemirror_mode": {
    "name": "ipython",
    "version": 3
   },
   "file_extension": ".py",
   "mimetype": "text/x-python",
   "name": "python",
   "nbconvert_exporter": "python",
   "pygments_lexer": "ipython3",
   "version": "3.10.10"
  },
  "orig_nbformat": 4
 },
 "nbformat": 4,
 "nbformat_minor": 2
}
